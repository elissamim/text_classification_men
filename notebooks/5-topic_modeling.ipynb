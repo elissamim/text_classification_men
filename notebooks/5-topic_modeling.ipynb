{
 "cells": [
  {
   "cell_type": "code",
   "execution_count": null,
   "id": "12934ac0-25ad-4cc1-8beb-7eae2d9467b0",
   "metadata": {},
   "outputs": [],
   "source": [
    "%load_ext autoreload\n",
    "%autoreload 2"
   ]
  },
  {
   "cell_type": "code",
   "execution_count": null,
   "id": "f77e5565-d4ac-43d8-ac60-a84bd9f1cd0f",
   "metadata": {},
   "outputs": [],
   "source": [
    "import os\n",
    "import sys\n",
    "import s3fs\n",
    "import yaml\n",
    "import numpy as np\n",
    "import fireducks.pandas as pd\n",
    "import warnings\n",
    "from dotenv import load_dotenv\n",
    "\n",
    "sys.path.append(\"../src\")\n",
    "from topic_modeling import *"
   ]
  },
  {
   "cell_type": "code",
   "execution_count": null,
   "id": "731912da-aff1-4933-b33f-d15313951f0b",
   "metadata": {},
   "outputs": [],
   "source": [
    "load_dotenv()\n",
    "pd.set_option(\"display.max_columns\", None)\n",
    "warnings.simplefilter(\"ignore\")\n",
    "fs = s3fs.S3FileSystem(\n",
    "            client_kwargs={\"endpoint_url\": \"https://minio.lab.sspcloud.fr\"},\n",
    "            key=os.environ[\"Accesskey\"],\n",
    "            secret=os.environ[\"Secretkey\"],\n",
    "            token=os.environ[\"Token\"]\n",
    ")"
   ]
  },
  {
   "cell_type": "markdown",
   "id": "ba905a7f-7cab-4e1c-9e34-21ece3a6f6b7",
   "metadata": {},
   "source": [
    "# Data selection : only accepted internships"
   ]
  },
  {
   "cell_type": "code",
   "execution_count": null,
   "id": "ddd5af83-2cf2-4924-9ecf-9722c7287645",
   "metadata": {},
   "outputs": [],
   "source": [
    "with fs.open(\"elissamim/text_classification_men/data/stages-votes.json\", \"r\") as file:\n",
    "    df = pd.read_json(file)\n",
    "\n",
    "df = df[df[\"sol\"]==\"ok\"]\n",
    "docs = df[\"phrase_text\"].tolist()"
   ]
  },
  {
   "cell_type": "markdown",
   "id": "870b0e26-9e14-4ed0-bdc1-095728e856ef",
   "metadata": {},
   "source": [
    "# LDA"
   ]
  },
  {
   "cell_type": "code",
   "execution_count": null,
   "id": "6e21e4d3-df3e-48bd-8693-b7806ebc3a3c",
   "metadata": {
    "scrolled": true
   },
   "outputs": [],
   "source": [
    "lda_model = LDATopicModeling(docs).find_best_lda_model()"
   ]
  },
  {
   "cell_type": "code",
   "execution_count": null,
   "id": "cb486b29-cf0e-49fe-a6c9-fecf4030ce79",
   "metadata": {},
   "outputs": [],
   "source": [
    "LDATopicModeling(docs).plot_word_clouds(lda_model)"
   ]
  },
  {
   "cell_type": "markdown",
   "id": "af27342d-03b2-4eab-bfdd-044e4aa938fe",
   "metadata": {},
   "source": [
    "# NMF"
   ]
  },
  {
   "cell_type": "code",
   "execution_count": null,
   "id": "bc395adb-641a-4fd1-b81e-29a89a05092b",
   "metadata": {},
   "outputs": [],
   "source": [
    "nmf_model = NMFTopicModeling(docs)\n",
    "nmf_model.plot_wordclouds()"
   ]
  }
 ],
 "metadata": {
  "kernelspec": {
   "display_name": "Python 3 (ipykernel)",
   "language": "python",
   "name": "python3"
  },
  "language_info": {
   "codemirror_mode": {
    "name": "ipython",
    "version": 3
   },
   "file_extension": ".py",
   "mimetype": "text/x-python",
   "name": "python",
   "nbconvert_exporter": "python",
   "pygments_lexer": "ipython3",
   "version": "3.12.9"
  }
 },
 "nbformat": 4,
 "nbformat_minor": 5
}
