{
 "cells": [
  {
   "cell_type": "code",
   "execution_count": 1,
   "id": "cfe4226e-f5f6-42ee-86a7-5a6ac85ec5e6",
   "metadata": {},
   "outputs": [],
   "source": [
    "%load_ext autoreload\n",
    "%autoreload 2"
   ]
  },
  {
   "cell_type": "code",
   "execution_count": 3,
   "id": "e6297d81-5df7-45ce-81cd-acec70d36f66",
   "metadata": {},
   "outputs": [
    {
     "name": "stderr",
     "output_type": "stream",
     "text": [
      "[nltk_data] Downloading package stopwords to /home/onyxia/nltk_data...\n",
      "[nltk_data]   Package stopwords is already up-to-date!\n"
     ]
    }
   ],
   "source": [
    "import os\n",
    "import sys\n",
    "import s3fs\n",
    "import yaml\n",
    "import numpy as np\n",
    "import fireducks.pandas as pd\n",
    "import warnings\n",
    "from dotenv import load_dotenv\n",
    "\n",
    "sys.path.append(\"../src\")\n",
    "from bertopic_clustering import *"
   ]
  },
  {
   "cell_type": "code",
   "execution_count": 4,
   "id": "ea3cd3d0-a733-47c1-a8fb-81af9a4e082c",
   "metadata": {},
   "outputs": [],
   "source": [
    "load_dotenv()\n",
    "pd.set_option(\"display.max_columns\", None)\n",
    "warnings.simplefilter(\"ignore\")\n",
    "fs = s3fs.S3FileSystem(\n",
    "            client_kwargs={\"endpoint_url\": \"https://minio.lab.sspcloud.fr\"},\n",
    "            key=os.environ[\"Accesskey\"],\n",
    "            secret=os.environ[\"Secretkey\"],\n",
    "            token=os.environ[\"Token\"]\n",
    ")"
   ]
  },
  {
   "cell_type": "markdown",
   "id": "0befd427-d8b6-4848-931c-79d00e1269f5",
   "metadata": {},
   "source": [
    "# Data selection : only rejected internships"
   ]
  },
  {
   "cell_type": "code",
   "execution_count": 5,
   "id": "7ceb8d8d-c2cb-4efb-bb25-8f854c4aa46f",
   "metadata": {},
   "outputs": [],
   "source": [
    "with fs.open(\"elissamim/text_classification_men/data/stages-votes.json\", \"r\") as file:\n",
    "    df = pd.read_json(file)\n",
    "\n",
    "df = df[df[\"sol\"]==\"ko\"]\n",
    "docs = df[\"phrase_text\"].tolist()"
   ]
  },
  {
   "cell_type": "markdown",
   "id": "53f64776-93e7-4164-a667-3516c08b73dd",
   "metadata": {},
   "source": [
    "# BERTopic clustering"
   ]
  },
  {
   "cell_type": "code",
   "execution_count": 9,
   "id": "936341d4-0324-46f9-ab6e-8d68a6ef0254",
   "metadata": {
    "scrolled": true
   },
   "outputs": [],
   "source": [
    "topics, probs = BERTopicClustering(docs).bertopic_model()"
   ]
  },
  {
   "cell_type": "code",
   "execution_count": 11,
   "id": "9789b366-2fd4-43b9-ad51-4cf87f3fc511",
   "metadata": {},
   "outputs": [
    {
     "data": {
      "text/plain": [
       "[0, 1, -1]"
      ]
     },
     "execution_count": 11,
     "metadata": {},
     "output_type": "execute_result"
    }
   ],
   "source": [
    "list(set(topics))"
   ]
  }
 ],
 "metadata": {
  "kernelspec": {
   "display_name": "Python 3 (ipykernel)",
   "language": "python",
   "name": "python3"
  },
  "language_info": {
   "codemirror_mode": {
    "name": "ipython",
    "version": 3
   },
   "file_extension": ".py",
   "mimetype": "text/x-python",
   "name": "python",
   "nbconvert_exporter": "python",
   "pygments_lexer": "ipython3",
   "version": "3.12.9"
  }
 },
 "nbformat": 4,
 "nbformat_minor": 5
}
