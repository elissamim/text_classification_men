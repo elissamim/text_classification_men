{
 "cells": [
  {
   "cell_type": "code",
   "execution_count": 1,
   "id": "1f3ce43f-0e6e-42e8-ba95-2b9076b6db08",
   "metadata": {},
   "outputs": [],
   "source": [
    "%load_ext autoreload\n",
    "%autoreload 2"
   ]
  },
  {
   "cell_type": "code",
   "execution_count": 21,
   "id": "081952b3-7501-4f5c-9b35-e0eb3346eb66",
   "metadata": {},
   "outputs": [],
   "source": [
    "import os\n",
    "from transformers import (\n",
    "                        pipeline, \n",
    "                        AutoTokenizer, \n",
    "                        AutoModelForCausalLM\n",
    "                        )\n",
    "import torch\n",
    "import pandas as pd\n",
    "from sklearn.metrics import classification_report, confusion_matrix, accuracy_score\n",
    "from dotenv import load_dotenv\n",
    "import warnings\n",
    "import s3fs"
   ]
  },
  {
   "cell_type": "code",
   "execution_count": 12,
   "id": "3041b3a3-8bc3-4f57-802d-4f0a4a18e80c",
   "metadata": {},
   "outputs": [],
   "source": [
    "load_dotenv()\n",
    "pd.set_option(\"display.max_columns\", None)\n",
    "warnings.simplefilter(\"ignore\")\n",
    "fs = s3fs.S3FileSystem(\n",
    "            client_kwargs={\"endpoint_url\": \"https://minio.lab.sspcloud.fr\"},\n",
    "            key=os.environ[\"Accesskey\"],\n",
    "            secret=os.environ[\"Secretkey\"],\n",
    "            token=os.environ[\"Token\"]\n",
    ")"
   ]
  },
  {
   "cell_type": "code",
   "execution_count": 23,
   "id": "a9900b27-f188-4649-ace9-bcc1f67bae5e",
   "metadata": {},
   "outputs": [],
   "source": [
    "with fs.open(\"elissamim/text_classification_men/data/stages-votes.json\", \"r\") as file:\n",
    "    df = pd.read_json(file)\n",
    "\n",
    "df = df.groupby(\"phrase_text\", as_index = False)[\"sol\"].apply(lambda x: x.mode().iloc[0])\n",
    "df[\"sol\"]=df[\"sol\"].apply(lambda x: 1 if x == \"ok\" else 0)"
   ]
  },
  {
   "cell_type": "code",
   "execution_count": 24,
   "id": "e0df8262-329e-4ae8-ae7f-f9495d3acc3b",
   "metadata": {
    "scrolled": true
   },
   "outputs": [
    {
     "name": "stderr",
     "output_type": "stream",
     "text": [
      "Loading checkpoint shards: 100%|██████████| 2/2 [00:47<00:00, 23.59s/it]\n",
      "Device set to use cpu\n"
     ]
    }
   ],
   "source": [
    "model_name = \"mistralai/Mistral-7B-Instruct-v0.1\"\n",
    "\n",
    "tokenizer = AutoTokenizer.from_pretrained(model_name)\n",
    "\n",
    "model = AutoModelForCausalLM.from_pretrained(\n",
    "    model_name,\n",
    "    device_map=\"auto\",\n",
    "    torch_dtype=torch.float16,\n",
    ")\n",
    "\n",
    "# Create a text generator\n",
    "generator = pipeline(\n",
    "    \"text-generation\",\n",
    "    model = model,\n",
    "    tokenizer = tokenizer,\n",
    ")\n",
    "\n",
    "text_1=\"Stage d'observation dans une superette\"\n",
    "text_2=\"Stage dans la vente de produits stupéfiants: cannabis et cocaïne notamment\"\n",
    "text_3=\"Stage de mathématiques avancées pour la découverte des propriétés des polymères utilisés dans la confection de macro molécules\"\n",
    "candidate_labels = [\"stage de 3ème acceptable\", \"stage de 3ème non acceptable\"]\n",
    "\n",
    "def zero_shot_classification(text:str) -> str:\n",
    "\n",
    "    prompt = f\"\"\"\n",
    "    Tu es un expert de l'orientation scolaire pour des élèves de 3ème.\n",
    "    Ton rôle est de lire des intitulés de stage de 3ème et de juger s'ils sont acceptables ou non pour des collégiens.\n",
    "    \n",
    "    Voici un intitulé de stage de 3ème: \"{text}\"\n",
    "    \n",
    "    Catégories possibles : \"oui\", \"non\".\n",
    "    \n",
    "    Réponds uniquement par l'une des deux catégories, sans justification.\n",
    "    \"\"\"\n",
    "\n",
    "    return generator(\n",
    "        prompt,\n",
    "        max_new_tokens=10,\n",
    "        do_sample=False\n",
    "    )\n",
    "\n",
    "def few_shot_classification(text:str):\n",
    "\n",
    "    prompt = f\"\"\"\n",
    "    Tu es un expert en orientation scolaire. Ta tâche est de déterminer si un intitulé de stage de 3ᵉ est acceptable pour un collégien. Réponds uniquement par \"oui\" ou \"non\".\n",
    "    \n",
    "    Exemples :\n",
    "    \n",
    "    Intitulé : \"Stage dans une mairie\"  \n",
    "    Acceptable ? oui\n",
    "    \n",
    "    Intitulé : \"Stage chez un tatoueur\"  \n",
    "    Acceptable ? non\n",
    "    \n",
    "    Intitulé : \"Stage d’observation dans un cabinet vétérinaire\"  \n",
    "    Acceptable ? oui\n",
    "    \n",
    "    Intitulé : \"Stage dans une boîte de nuit\"  \n",
    "    Acceptable ? non\n",
    "    \n",
    "    Maintenant, analyse le nouvel intitulé :\n",
    "    \n",
    "    Intitulé : \"{text}\"  \n",
    "    Acceptable ?\n",
    "    \"\"\"\n",
    "\n",
    "    return generator(\n",
    "        prompt,\n",
    "        max_new_tokens=10,\n",
    "        do_sample=False\n",
    "    )\n"
   ]
  },
  {
   "cell_type": "code",
   "execution_count": 25,
   "id": "fe97f099-ffaa-4676-b5b7-2da64d1ec6e9",
   "metadata": {},
   "outputs": [
    {
     "name": "stderr",
     "output_type": "stream",
     "text": [
      "Setting `pad_token_id` to `eos_token_id`:2 for open-end generation.\n"
     ]
    },
    {
     "data": {
      "text/plain": [
       "[{'generated_text': '\\n    Tu es un expert en orientation scolaire. Ta tâche est de déterminer si un intitulé de stage de 3ᵉ est acceptable pour un collégien. Réponds uniquement par \"oui\" ou \"non\".\\n\\n    Exemples :\\n\\n    Intitulé : \"Stage dans une mairie\"  \\n    Acceptable ? oui\\n\\n    Intitulé : \"Stage chez un tatoueur\"  \\n    Acceptable ? non\\n\\n    Intitulé : \"Stage d’observation dans un cabinet vétérinaire\"  \\n    Acceptable ? oui\\n\\n    Intitulé : \"Stage dans une boîte de nuit\"  \\n    Acceptable ? non\\n\\n    Maintenant, analyse le nouvel intitulé :\\n\\n    Intitulé : \"Stage dans un laboratoire d\\'analyse par chromatographie de prélèvements biologiques\"  \\n    Acceptable ?\\n    \\n    Réponse : oui'}]"
      ]
     },
     "execution_count": 25,
     "metadata": {},
     "output_type": "execute_result"
    }
   ],
   "source": [
    "few_shot_classification(\"Stage dans un laboratoire d'analyse par chromatographie de prélèvements biologiques\")"
   ]
  },
  {
   "cell_type": "code",
   "execution_count": null,
   "id": "b90c7832-eb37-4e5a-a1c5-d184cebebc10",
   "metadata": {},
   "outputs": [
    {
     "name": "stderr",
     "output_type": "stream",
     "text": [
      "Setting `pad_token_id` to `eos_token_id`:2 for open-end generation.\n"
     ]
    }
   ],
   "source": [
    "few_shot_classification(\"Stage de vente de bières artisanales\")"
   ]
  },
  {
   "cell_type": "code",
   "execution_count": null,
   "id": "7f5d9c4b-f4f7-4856-8a37-e6b9afc2b183",
   "metadata": {},
   "outputs": [],
   "source": [
    "few_shot_classification(\"Stage de consommation de bières artisanales, pour en évaluer la qualité\")"
   ]
  },
  {
   "cell_type": "code",
   "execution_count": null,
   "id": "e2adfc08-9fa8-4c19-83e8-cdfd959e08f2",
   "metadata": {},
   "outputs": [],
   "source": [
    "few_shot_classification(\"Stage de consommation d'alcool, pour en évaluer la qualité\")"
   ]
  },
  {
   "cell_type": "code",
   "execution_count": null,
   "id": "b14a0115-96ac-4010-9db2-46ae7ff51eff",
   "metadata": {},
   "outputs": [],
   "source": [
    "df[\"sol_generated\"] = df[\"phrase_text\"].apply(lambda x: few_shot_classification)\n",
    "df[\"sol_generated\"] = df[\"sol_generated\"].apply(lambda x: 1 if x == \"oui\" else 0)"
   ]
  },
  {
   "cell_type": "code",
   "execution_count": null,
   "id": "4d9748cd-7f09-481a-b9e6-8e6c67e3ff5d",
   "metadata": {},
   "outputs": [],
   "source": [
    "accuracy_score(df[\"sol\"], df[\"sol_generated\"])"
   ]
  },
  {
   "cell_type": "code",
   "execution_count": null,
   "id": "11233ebe-ee9d-4890-827a-bbf92013ccd5",
   "metadata": {},
   "outputs": [],
   "source": [
    "classification_report(df[\"sol\"], df[\"sol_generated\"])"
   ]
  },
  {
   "cell_type": "code",
   "execution_count": null,
   "id": "fc8c5ee1-2fc7-4c92-8429-75ffd49bd71f",
   "metadata": {},
   "outputs": [],
   "source": [
    "confusion_matrix(df[\"sol\"], df[\"sol_generated\"])"
   ]
  }
 ],
 "metadata": {
  "kernelspec": {
   "display_name": "Python 3 (ipykernel)",
   "language": "python",
   "name": "python3"
  },
  "language_info": {
   "codemirror_mode": {
    "name": "ipython",
    "version": 3
   },
   "file_extension": ".py",
   "mimetype": "text/x-python",
   "name": "python",
   "nbconvert_exporter": "python",
   "pygments_lexer": "ipython3",
   "version": "3.12.9"
  }
 },
 "nbformat": 4,
 "nbformat_minor": 5
}
