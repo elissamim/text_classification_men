{
 "cells": [
  {
   "cell_type": "code",
   "execution_count": 3,
   "id": "1f3ce43f-0e6e-42e8-ba95-2b9076b6db08",
   "metadata": {},
   "outputs": [
    {
     "name": "stdout",
     "output_type": "stream",
     "text": [
      "The autoreload extension is already loaded. To reload it, use:\n",
      "  %reload_ext autoreload\n"
     ]
    }
   ],
   "source": [
    "%load_ext autoreload\n",
    "%autoreload 2"
   ]
  },
  {
   "cell_type": "code",
   "execution_count": 11,
   "id": "543a0ca5-330c-4536-90a5-c6ad9464f140",
   "metadata": {},
   "outputs": [],
   "source": [
    "from transformers import pipeline, AutoTokenizer, AutoModelForCausalLM\n",
    "import torch\n",
    "from typing import List"
   ]
  },
  {
   "cell_type": "code",
   "execution_count": null,
   "id": "e0df8262-329e-4ae8-ae7f-f9495d3acc3b",
   "metadata": {
    "scrolled": true
   },
   "outputs": [],
   "source": [
    "model_name = \"mistralai/Mistral-7B-Instruct-v0.1\"\n",
    "\n",
    "tokenizer = AutoTokenizer.from_pretrained(model_name)\n",
    "\n",
    "model = AutoModelForCausalLM.from_pretrained(\n",
    "    model_name,\n",
    "    device_map=\"auto\",\n",
    "    torch_dtype=torch.float16,\n",
    ")\n",
    "\n",
    "# Create a text generator\n",
    "generator = pipeline(\n",
    "    \"text-generation\",\n",
    "    model = model,\n",
    "    tokenizer = tokenizer,\n",
    ")\n",
    "\n",
    "candidate_labels = [\"stage de 3ème acceptable\", \"stage de 3ème non acceptable\"]\n",
    "\n",
    "def zero_shot_classification(text:str, candidate_labels:List[str]) -> str:\n",
    "\n",
    "    prompt = f\"\"\"\n",
    "    Tu es un expert de l'orientation scolaire pour des élèves de 3ème.\n",
    "    Ton rôle est de lire des intitulés de stage de 3ème et de juger s'ils sont acceptables ou non pour des collégiens.\n",
    "    \n",
    "    Voici un intitulé de stage de 3ème: \"{text}\"\n",
    "    \n",
    "    Catégories possibles : {', '.join(candidate_labels)}\n",
    "    \n",
    "    Réponds uniquement par l'une des deux catégories, sans justification.\n",
    "    \"\"\"\n",
    "\n",
    "    return generator(\n",
    "        prompt,\n",
    "        max_new_tokens=10,\n",
    "        do_sample=False\n",
    "    )\n",
    "\n",
    "def few_shot_classification(text:str, candidate_labels:)"
   ]
  },
  {
   "cell_type": "code",
   "execution_count": null,
   "id": "fe97f099-ffaa-4676-b5b7-2da64d1ec6e9",
   "metadata": {},
   "outputs": [],
   "source": []
  }
 ],
 "metadata": {
  "kernelspec": {
   "display_name": "Python 3 (ipykernel)",
   "language": "python",
   "name": "python3"
  },
  "language_info": {
   "codemirror_mode": {
    "name": "ipython",
    "version": 3
   },
   "file_extension": ".py",
   "mimetype": "text/x-python",
   "name": "python",
   "nbconvert_exporter": "python",
   "pygments_lexer": "ipython3",
   "version": "3.12.9"
  }
 },
 "nbformat": 4,
 "nbformat_minor": 5
}
