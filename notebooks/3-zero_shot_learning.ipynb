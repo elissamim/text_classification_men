{
 "cells": [
  {
   "cell_type": "code",
   "execution_count": 1,
   "id": "1f3ce43f-0e6e-42e8-ba95-2b9076b6db08",
   "metadata": {},
   "outputs": [],
   "source": [
    "%load_ext autoreload\n",
    "%autoreload 2"
   ]
  },
  {
   "cell_type": "code",
   "execution_count": 2,
   "id": "081952b3-7501-4f5c-9b35-e0eb3346eb66",
   "metadata": {},
   "outputs": [
    {
     "name": "stderr",
     "output_type": "stream",
     "text": [
      "/opt/conda/lib/python3.12/site-packages/tqdm/auto.py:21: TqdmWarning: IProgress not found. Please update jupyter and ipywidgets. See https://ipywidgets.readthedocs.io/en/stable/user_install.html\n",
      "  from .autonotebook import tqdm as notebook_tqdm\n"
     ]
    }
   ],
   "source": [
    "import os\n",
    "from transformers import (\n",
    "                        pipeline, \n",
    "                        AutoTokenizer, \n",
    "                        AutoModelForCausalLM\n",
    "                        )\n",
    "from datasets import Dataset\n",
    "import torch\n",
    "import pandas as pd\n",
    "from sklearn.metrics import classification_report, confusion_matrix, accuracy_score\n",
    "from dotenv import load_dotenv\n",
    "import warnings\n",
    "import s3fs"
   ]
  },
  {
   "cell_type": "code",
   "execution_count": 3,
   "id": "3041b3a3-8bc3-4f57-802d-4f0a4a18e80c",
   "metadata": {},
   "outputs": [],
   "source": [
    "load_dotenv()\n",
    "pd.set_option(\"display.max_columns\", None)\n",
    "warnings.simplefilter(\"ignore\")\n",
    "fs = s3fs.S3FileSystem(\n",
    "            client_kwargs={\"endpoint_url\": \"https://minio.lab.sspcloud.fr\"},\n",
    "            key=os.environ[\"Accesskey\"],\n",
    "            secret=os.environ[\"Secretkey\"],\n",
    "            token=os.environ[\"Token\"]\n",
    ")"
   ]
  },
  {
   "cell_type": "code",
   "execution_count": 4,
   "id": "a9900b27-f188-4649-ace9-bcc1f67bae5e",
   "metadata": {},
   "outputs": [],
   "source": [
    "with fs.open(\"elissamim/text_classification_men/data/stages-votes.json\", \"r\") as file:\n",
    "    df = pd.read_json(file)\n",
    "\n",
    "df = df.groupby(\"phrase_text\", as_index = False)[\"sol\"].apply(lambda x: x.mode().iloc[0])\n",
    "df[\"sol\"]=df[\"sol\"].apply(lambda x: 1 if x == \"ok\" else 0)"
   ]
  },
  {
   "cell_type": "code",
   "execution_count": 5,
   "id": "e0df8262-329e-4ae8-ae7f-f9495d3acc3b",
   "metadata": {
    "scrolled": true
   },
   "outputs": [
    {
     "name": "stderr",
     "output_type": "stream",
     "text": [
      "Loading checkpoint shards: 100%|██████████| 2/2 [00:54<00:00, 27.33s/it]\n",
      "Device set to use cpu\n"
     ]
    }
   ],
   "source": [
    "model_name = \"mistralai/Mistral-7B-Instruct-v0.1\"\n",
    "\n",
    "tokenizer = AutoTokenizer.from_pretrained(model_name)\n",
    "\n",
    "model = AutoModelForCausalLM.from_pretrained(\n",
    "    model_name,\n",
    "    device_map=\"auto\",\n",
    "    torch_dtype=torch.float16,\n",
    ")\n",
    "\n",
    "# Create a text generator\n",
    "generator = pipeline(\n",
    "    \"text-generation\",\n",
    "    model = model,\n",
    "    tokenizer = tokenizer,\n",
    ")\n",
    "\n",
    "def few_shot_classification(text:str):\n",
    "\n",
    "    prompt = f\"\"\"\n",
    "    Tu es un expert en orientation scolaire. Ta tâche est de déterminer si un intitulé de stage de 3ᵉ est acceptable pour un collégien. Réponds uniquement par \"oui\" ou \"non\".\n",
    "    \n",
    "    Exemples :\n",
    "\n",
    "    Example 1:\n",
    "    Intitulé : \"Stage dans une mairie\"  \n",
    "    Acceptable ? oui\n",
    "\n",
    "    Example 2:\n",
    "    Intitulé : \"Stage chez un tatoueur\"  \n",
    "    Acceptable ? non\n",
    "\n",
    "    Example 3:\n",
    "    Intitulé : \"Stage d’observation dans un cabinet vétérinaire\"  \n",
    "    Acceptable ? oui\n",
    "\n",
    "    Example 4:\n",
    "    Intitulé : \"Stage dans une boîte de nuit\"  \n",
    "    Acceptable ? non\n",
    "\n",
    "    Example 5:\n",
    "    Intitulé : \"Aide à la comptabilité dans une brasserie artisanale\"\n",
    "    Acceptable ? oui\n",
    "\n",
    "    Example 6:\n",
    "    Intitulé : \"Aide à un sommelier pour la dégistation et l'évaluation de vins\"\n",
    "    Acceptable ? non\n",
    "    \n",
    "    Maintenant, analyse le nouvel intitulé :\n",
    "    \n",
    "    Intitulé : \"{text}\"  \n",
    "    Acceptable ?\n",
    "    \"\"\"\n",
    "\n",
    "    response =  generator(\n",
    "        prompt,\n",
    "        max_new_tokens=10,\n",
    "        do_sample=False,\n",
    "        return_full_text=False\n",
    "    )[0][\"generated_text\"]\n",
    "\n",
    "    if \"oui\" in response.lower():\n",
    "        return 1\n",
    "    \n",
    "    return 0\n",
    "\n",
    "# We use a HuggingFace Dataset\n",
    "hf=Dataset.from_pandas(df)\n",
    "hf=hf.map(lambda x: {\"sol_generated\": few_shot_classification(x[\"phrase_text\"])})\n",
    "\n",
    "# We evaluate the model\n",
    "print(f\"Accuracy: {accuracy_score(hf[\"sol\"], hf[\"sol_generated\"])}\")\n",
    "print(f\"Classification report: {classification_report(hf[\"sol\"], hf[\"sol_generated\"])}\")\n",
    "print(f\"Confusion matrix: {confusion_matrix(hf[\"sol\"], hf[\"sol_generated\"])}\")"
   ]
  }
 ],
 "metadata": {
  "kernelspec": {
   "display_name": "Python 3 (ipykernel)",
   "language": "python",
   "name": "python3"
  },
  "language_info": {
   "codemirror_mode": {
    "name": "ipython",
    "version": 3
   },
   "file_extension": ".py",
   "mimetype": "text/x-python",
   "name": "python",
   "nbconvert_exporter": "python",
   "pygments_lexer": "ipython3",
   "version": "3.12.9"
  }
 },
 "nbformat": 4,
 "nbformat_minor": 5
}
