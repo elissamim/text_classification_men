{
 "cells": [
  {
   "cell_type": "code",
   "execution_count": 1,
   "id": "1f3ce43f-0e6e-42e8-ba95-2b9076b6db08",
   "metadata": {},
   "outputs": [],
   "source": [
    "%load_ext autoreload\n",
    "%autoreload 2"
   ]
  },
  {
   "cell_type": "code",
   "execution_count": null,
   "id": "e0df8262-329e-4ae8-ae7f-f9495d3acc3b",
   "metadata": {
    "scrolled": true
   },
   "outputs": [
    {
     "name": "stderr",
     "output_type": "stream",
     "text": [
      "/opt/conda/lib/python3.12/site-packages/tqdm/auto.py:21: TqdmWarning: IProgress not found. Please update jupyter and ipywidgets. See https://ipywidgets.readthedocs.io/en/stable/user_install.html\n",
      "  from .autonotebook import tqdm as notebook_tqdm\n",
      "Fetching 2 files:   0%|          | 0/2 [00:00<?, ?it/s]"
     ]
    }
   ],
   "source": [
    "from transformers import pipeline, AutoTokenizer, AutoModelForCausalLM\n",
    "import torch\n",
    "from typing import List\n",
    "\n",
    "model_name = \"mistralai/Mistral-7B-Instruct-v0.1\"\n",
    "\n",
    "tokenizer = AutoTokenizer.from_pretrained(model_name)\n",
    "\n",
    "model = AutoModelForCausalLM.from_pretrained(\n",
    "    model_name,\n",
    "    device_map=\"auto\",\n",
    "    torch_dtype=torch.float16,\n",
    ")\n",
    "\n",
    "# Create a text generator\n",
    "generator = pipeline(\n",
    "    \"text-generation\",\n",
    "    model = model,\n",
    "    tokenizer = tokenizer,\n",
    ")\n",
    "\n",
    "text_1=\"Stage d'observation dans une superette\"\n",
    "text_2=\"Stage dans la vente de produits stupéfiants: cannabis et cocaïne notamment\"\n",
    "text_3=\"Stage de mathématiques avancées pour la découverte des propriétés des polymères utilisés dans la confection de macro molécules\"\n",
    "candidate_labels = [\"stage de 3ème acceptable\", \"stage de 3ème non acceptable\"]\n",
    "\n",
    "def zero_shot_classification(text:str, candidate_labels:List[str]) -> str:\n",
    "\n",
    "    prompt = f\"\"\"\n",
    "    Tu es un expert de l'orientation scolaire pour des élèves de 3ème.\n",
    "    Ton rôle est de lire des intitulés de stage de 3ème et de juger s'ils sont acceptables ou non pour des collégiens.\n",
    "    \n",
    "    Voici un intitulé de stage de 3ème: \"{text}\"\n",
    "    \n",
    "    Catégories possibles : {', '.join(candidate_labels)}\n",
    "    \n",
    "    Réponds uniquement par l'une des deux catégories, sans justification.\n",
    "    \"\"\"\n",
    "\n",
    "    return generator(\n",
    "        prompt,\n",
    "        max_new_tokens=10,\n",
    "        do_sample=False\n",
    "    )\n",
    "\n",
    "def few_shot_classification(text:str):\n",
    "\n",
    "    prompt = f\"\"\"\n",
    "    Tu es un expert en orientation scolaire. Ta tâche est de déterminer si un intitulé de stage de 3ᵉ est acceptable pour un collégien. Réponds uniquement par \"oui\" ou \"non\".\n",
    "    \n",
    "    Exemples :\n",
    "    \n",
    "    Intitulé : \"Stage dans une mairie\"  \n",
    "    Acceptable ? oui\n",
    "    \n",
    "    Intitulé : \"Stage chez un tatoueur\"  \n",
    "    Acceptable ? non\n",
    "    \n",
    "    Intitulé : \"Stage d’observation dans un cabinet vétérinaire\"  \n",
    "    Acceptable ? oui\n",
    "    \n",
    "    Intitulé : \"Stage dans une boîte de nuit\"  \n",
    "    Acceptable ? non\n",
    "    \n",
    "    Maintenant, analyse le nouvel intitulé :\n",
    "    \n",
    "    Intitulé : \"{text}\"  \n",
    "    Acceptable ?\n",
    "    \"\"\"\n",
    "\n",
    "    return generator(\n",
    "        prompt,\n",
    "        max_new_tokens=10,\n",
    "        do_sample=False\n",
    "    )\n"
   ]
  },
  {
   "cell_type": "code",
   "execution_count": null,
   "id": "fe97f099-ffaa-4676-b5b7-2da64d1ec6e9",
   "metadata": {},
   "outputs": [],
   "source": []
  }
 ],
 "metadata": {
  "kernelspec": {
   "display_name": "Python 3 (ipykernel)",
   "language": "python",
   "name": "python3"
  },
  "language_info": {
   "codemirror_mode": {
    "name": "ipython",
    "version": 3
   },
   "file_extension": ".py",
   "mimetype": "text/x-python",
   "name": "python",
   "nbconvert_exporter": "python",
   "pygments_lexer": "ipython3",
   "version": "3.12.9"
  }
 },
 "nbformat": 4,
 "nbformat_minor": 5
}
