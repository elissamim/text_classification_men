{
 "cells": [
  {
   "cell_type": "code",
   "execution_count": 1,
   "id": "1f3ce43f-0e6e-42e8-ba95-2b9076b6db08",
   "metadata": {},
   "outputs": [],
   "source": [
    "%load_ext autoreload\n",
    "%autoreload 2"
   ]
  },
  {
   "cell_type": "code",
   "execution_count": 6,
   "id": "081952b3-7501-4f5c-9b35-e0eb3346eb66",
   "metadata": {},
   "outputs": [],
   "source": [
    "from transformers import (\n",
    "                        pipeline, \n",
    "                        AutoTokenizer, \n",
    "                        AutoModelForCausalLM\n",
    "                        )\n",
    "import torch\n",
    "import fireducks.pandas as pd\n",
    "from sklearn.metrics import classification_report, confusion_matrix, accuracy_score"
   ]
  },
  {
   "cell_type": "code",
   "execution_count": 2,
   "id": "e0df8262-329e-4ae8-ae7f-f9495d3acc3b",
   "metadata": {
    "scrolled": true
   },
   "outputs": [
    {
     "name": "stderr",
     "output_type": "stream",
     "text": [
      "/opt/conda/lib/python3.12/site-packages/tqdm/auto.py:21: TqdmWarning: IProgress not found. Please update jupyter and ipywidgets. See https://ipywidgets.readthedocs.io/en/stable/user_install.html\n",
      "  from .autonotebook import tqdm as notebook_tqdm\n",
      "Fetching 2 files: 100%|██████████| 2/2 [02:47<00:00, 83.61s/it] \n",
      "Loading checkpoint shards: 100%|██████████| 2/2 [00:10<00:00,  5.05s/it]\n",
      "Device set to use cpu\n"
     ]
    }
   ],
   "source": [
    "model_name = \"mistralai/Mistral-7B-Instruct-v0.1\"\n",
    "\n",
    "tokenizer = AutoTokenizer.from_pretrained(model_name)\n",
    "\n",
    "model = AutoModelForCausalLM.from_pretrained(\n",
    "    model_name,\n",
    "    device_map=\"auto\",\n",
    "    torch_dtype=torch.float16,\n",
    ")\n",
    "\n",
    "# Create a text generator\n",
    "generator = pipeline(\n",
    "    \"text-generation\",\n",
    "    model = model,\n",
    "    tokenizer = tokenizer,\n",
    ")\n",
    "\n",
    "text_1=\"Stage d'observation dans une superette\"\n",
    "text_2=\"Stage dans la vente de produits stupéfiants: cannabis et cocaïne notamment\"\n",
    "text_3=\"Stage de mathématiques avancées pour la découverte des propriétés des polymères utilisés dans la confection de macro molécules\"\n",
    "candidate_labels = [\"stage de 3ème acceptable\", \"stage de 3ème non acceptable\"]\n",
    "\n",
    "def zero_shot_classification(text:str) -> str:\n",
    "\n",
    "    prompt = f\"\"\"\n",
    "    Tu es un expert de l'orientation scolaire pour des élèves de 3ème.\n",
    "    Ton rôle est de lire des intitulés de stage de 3ème et de juger s'ils sont acceptables ou non pour des collégiens.\n",
    "    \n",
    "    Voici un intitulé de stage de 3ème: \"{text}\"\n",
    "    \n",
    "    Catégories possibles : \"oui\", \"non\".\n",
    "    \n",
    "    Réponds uniquement par l'une des deux catégories, sans justification.\n",
    "    \"\"\"\n",
    "\n",
    "    return generator(\n",
    "        prompt,\n",
    "        max_new_tokens=10,\n",
    "        do_sample=False\n",
    "    )\n",
    "\n",
    "def few_shot_classification(text:str):\n",
    "\n",
    "    prompt = f\"\"\"\n",
    "    Tu es un expert en orientation scolaire. Ta tâche est de déterminer si un intitulé de stage de 3ᵉ est acceptable pour un collégien. Réponds uniquement par \"oui\" ou \"non\".\n",
    "    \n",
    "    Exemples :\n",
    "    \n",
    "    Intitulé : \"Stage dans une mairie\"  \n",
    "    Acceptable ? oui\n",
    "    \n",
    "    Intitulé : \"Stage chez un tatoueur\"  \n",
    "    Acceptable ? non\n",
    "    \n",
    "    Intitulé : \"Stage d’observation dans un cabinet vétérinaire\"  \n",
    "    Acceptable ? oui\n",
    "    \n",
    "    Intitulé : \"Stage dans une boîte de nuit\"  \n",
    "    Acceptable ? non\n",
    "    \n",
    "    Maintenant, analyse le nouvel intitulé :\n",
    "    \n",
    "    Intitulé : \"{text}\"  \n",
    "    Acceptable ?\n",
    "    \"\"\"\n",
    "\n",
    "    return generator(\n",
    "        prompt,\n",
    "        max_new_tokens=10,\n",
    "        do_sample=False\n",
    "    )\n"
   ]
  },
  {
   "cell_type": "code",
   "execution_count": 4,
   "id": "fe97f099-ffaa-4676-b5b7-2da64d1ec6e9",
   "metadata": {},
   "outputs": [
    {
     "name": "stderr",
     "output_type": "stream",
     "text": [
      "Setting `pad_token_id` to `eos_token_id`:2 for open-end generation.\n"
     ]
    },
    {
     "data": {
      "text/plain": [
       "[{'generated_text': '\\n    Tu es un expert en orientation scolaire. Ta tâche est de déterminer si un intitulé de stage de 3ᵉ est acceptable pour un collégien. Réponds uniquement par \"oui\" ou \"non\".\\n\\n    Exemples :\\n\\n    Intitulé : \"Stage dans une mairie\"  \\n    Acceptable ? oui\\n\\n    Intitulé : \"Stage chez un tatoueur\"  \\n    Acceptable ? non\\n\\n    Intitulé : \"Stage d’observation dans un cabinet vétérinaire\"  \\n    Acceptable ? oui\\n\\n    Intitulé : \"Stage dans une boîte de nuit\"  \\n    Acceptable ? non\\n\\n    Maintenant, analyse le nouvel intitulé :\\n\\n    Intitulé : \"Stage dans un laboratoire d\\'analyse par chromatographie de prélèvements biologiques\"  \\n    Acceptable ?\\n    \\n    Réponse : oui'}]"
      ]
     },
     "execution_count": 4,
     "metadata": {},
     "output_type": "execute_result"
    }
   ],
   "source": [
    "few_shot_classification(\"Stage dans un laboratoire d'analyse par chromatographie de prélèvements biologiques\")"
   ]
  },
  {
   "cell_type": "code",
   "execution_count": 5,
   "id": "b90c7832-eb37-4e5a-a1c5-d184cebebc10",
   "metadata": {},
   "outputs": [
    {
     "name": "stderr",
     "output_type": "stream",
     "text": [
      "Setting `pad_token_id` to `eos_token_id`:2 for open-end generation.\n"
     ]
    },
    {
     "data": {
      "text/plain": [
       "[{'generated_text': '\\n    Tu es un expert en orientation scolaire. Ta tâche est de déterminer si un intitulé de stage de 3ᵉ est acceptable pour un collégien. Réponds uniquement par \"oui\" ou \"non\".\\n\\n    Exemples :\\n\\n    Intitulé : \"Stage dans une mairie\"  \\n    Acceptable ? oui\\n\\n    Intitulé : \"Stage chez un tatoueur\"  \\n    Acceptable ? non\\n\\n    Intitulé : \"Stage d’observation dans un cabinet vétérinaire\"  \\n    Acceptable ? oui\\n\\n    Intitulé : \"Stage dans une boîte de nuit\"  \\n    Acceptable ? non\\n\\n    Maintenant, analyse le nouvel intitulé :\\n\\n    Intitulé : \"Stage de vente de bières artisanales\"  \\n    Acceptable ?\\n    \\n    Réponse : oui'}]"
      ]
     },
     "execution_count": 5,
     "metadata": {},
     "output_type": "execute_result"
    }
   ],
   "source": [
    "few_shot_classification(\"Stage de vente de bières artisanales\")"
   ]
  },
  {
   "cell_type": "code",
   "execution_count": 7,
   "id": "7f5d9c4b-f4f7-4856-8a37-e6b9afc2b183",
   "metadata": {},
   "outputs": [
    {
     "name": "stderr",
     "output_type": "stream",
     "text": [
      "Setting `pad_token_id` to `eos_token_id`:2 for open-end generation.\n"
     ]
    },
    {
     "data": {
      "text/plain": [
       "[{'generated_text': '\\n    Tu es un expert en orientation scolaire. Ta tâche est de déterminer si un intitulé de stage de 3ᵉ est acceptable pour un collégien. Réponds uniquement par \"oui\" ou \"non\".\\n\\n    Exemples :\\n\\n    Intitulé : \"Stage dans une mairie\"  \\n    Acceptable ? oui\\n\\n    Intitulé : \"Stage chez un tatoueur\"  \\n    Acceptable ? non\\n\\n    Intitulé : \"Stage d’observation dans un cabinet vétérinaire\"  \\n    Acceptable ? oui\\n\\n    Intitulé : \"Stage dans une boîte de nuit\"  \\n    Acceptable ? non\\n\\n    Maintenant, analyse le nouvel intitulé :\\n\\n    Intitulé : \"Stage de consommation de bières artisanales, pour en évaluer la qualité\"  \\n    Acceptable ?\\n    \\n    Réponse : oui'}]"
      ]
     },
     "execution_count": 7,
     "metadata": {},
     "output_type": "execute_result"
    }
   ],
   "source": [
    "few_shot_classification(\"Stage de consommation de bières artisanales, pour en évaluer la qualité\")"
   ]
  },
  {
   "cell_type": "code",
   "execution_count": 8,
   "id": "e2adfc08-9fa8-4c19-83e8-cdfd959e08f2",
   "metadata": {},
   "outputs": [
    {
     "name": "stderr",
     "output_type": "stream",
     "text": [
      "Setting `pad_token_id` to `eos_token_id`:2 for open-end generation.\n"
     ]
    },
    {
     "data": {
      "text/plain": [
       "[{'generated_text': '\\n    Tu es un expert en orientation scolaire. Ta tâche est de déterminer si un intitulé de stage de 3ᵉ est acceptable pour un collégien. Réponds uniquement par \"oui\" ou \"non\".\\n\\n    Exemples :\\n\\n    Intitulé : \"Stage dans une mairie\"  \\n    Acceptable ? oui\\n\\n    Intitulé : \"Stage chez un tatoueur\"  \\n    Acceptable ? non\\n\\n    Intitulé : \"Stage d’observation dans un cabinet vétérinaire\"  \\n    Acceptable ? oui\\n\\n    Intitulé : \"Stage dans une boîte de nuit\"  \\n    Acceptable ? non\\n\\n    Maintenant, analyse le nouvel intitulé :\\n\\n    Intitulé : \"Stage de consommation d\\'alcool, pour en évaluer la qualité\"  \\n    Acceptable ?\\n    \\n    Réponse : non'}]"
      ]
     },
     "execution_count": 8,
     "metadata": {},
     "output_type": "execute_result"
    }
   ],
   "source": [
    "few_shot_classification(\"Stage de consommation d'alcool, pour en évaluer la qualité\")"
   ]
  }
 ],
 "metadata": {
  "kernelspec": {
   "display_name": "Python 3 (ipykernel)",
   "language": "python",
   "name": "python3"
  },
  "language_info": {
   "codemirror_mode": {
    "name": "ipython",
    "version": 3
   },
   "file_extension": ".py",
   "mimetype": "text/x-python",
   "name": "python",
   "nbconvert_exporter": "python",
   "pygments_lexer": "ipython3",
   "version": "3.12.9"
  }
 },
 "nbformat": 4,
 "nbformat_minor": 5
}
