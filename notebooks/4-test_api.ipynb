{
 "cells": [
  {
   "cell_type": "code",
   "execution_count": null,
   "id": "0a1e35bb-7d61-4582-94ca-e8432e4c36a2",
   "metadata": {},
   "outputs": [],
   "source": [
    "import requests\n",
    "\n",
    "url = \"http://127.0.0.1:8000/predict\""
   ]
  },
  {
   "cell_type": "code",
   "execution_count": null,
   "id": "b72785da-9e4d-4be1-a389-de3dff09bb95",
   "metadata": {},
   "outputs": [],
   "source": [
    "data = {\"text\":\"Stage en cuisson de steaks au McDonald's\",\n",
    "        \"model_name\":\"ml\"}\n",
    "response = requests.post(url, json=data)\n",
    "response.json()"
   ]
  },
  {
   "cell_type": "code",
   "execution_count": null,
   "id": "20b63033-28a3-43db-b033-0427ed211cb4",
   "metadata": {},
   "outputs": [],
   "source": [
    "data = {\"text\":\"Stage en cuisson de steaks au McDonald's\",\n",
    "        \"model_name\":\"camembert\"}\n",
    "response = requests.post(url, json=data)\n",
    "response.json()"
   ]
  },
  {
   "cell_type": "code",
   "execution_count": null,
   "id": "94811204-1857-4928-babe-fbc1392f70e0",
   "metadata": {},
   "outputs": [],
   "source": [
    "data = {\"text\":\"Stage en cuisson de steaks au McDonald's\",\n",
    "        \"model_name\":\"fewshot\"}\n",
    "response = requests.post(url, json=data)\n",
    "response.json()"
   ]
  }
 ],
 "metadata": {
  "kernelspec": {
   "display_name": "Python 3 (ipykernel)",
   "language": "python",
   "name": "python3"
  },
  "language_info": {
   "codemirror_mode": {
    "name": "ipython",
    "version": 3
   },
   "file_extension": ".py",
   "mimetype": "text/x-python",
   "name": "python",
   "nbconvert_exporter": "python",
   "pygments_lexer": "ipython3",
   "version": "3.12.9"
  }
 },
 "nbformat": 4,
 "nbformat_minor": 5
}
